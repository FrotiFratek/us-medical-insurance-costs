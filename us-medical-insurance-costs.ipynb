{
 "cells": [
  {
   "cell_type": "code",
   "execution_count": 29,
   "metadata": {},
   "outputs": [
    {
     "name": "stdout",
     "output_type": "stream",
     "text": [
      "{'age': '19', 'sex': 'female', 'bmi': '27.9', 'children': '0', 'smoker': 'yes', 'region': 'southwest', 'charges': '16884.924'}\n",
      "Avg age of patients is 39.2\n",
      "These are the most common regions with number of patients equal to 364\n",
      "['southeast']\n",
      "Avg smoker pays: 32050.23183153285\n",
      "Avg non-smoker pays: 8434.268297856199\n",
      "Avg age for someone who has at least one child is: 39.8\n"
     ]
    }
   ],
   "source": [
    "#importing csv library and opening insurance_csv file to get data into python dictionary\n",
    "import csv\n",
    "insurance_dict = {}\n",
    "id = 1\n",
    "with open('insurance.csv') as insurance_csv:\n",
    "    reader = csv.DictReader(insurance_csv)\n",
    "    for row in reader:\n",
    "        insurance_dict[id] = row\n",
    "        id+=1\n",
    "print(insurance_dict[1])\n",
    "\n",
    "#finding average age of patients ---------------------------------------------------\n",
    "count = 0\n",
    "age_sum = 0\n",
    "for id in insurance_dict:\n",
    "    age_sum += int(insurance_dict[id]['age'])\n",
    "    count += 1\n",
    "print(\"Avg age of patients is \" + str(round(age_sum/count, 1)))\n",
    "      \n",
    "#analyzing where a majority of the individuals are from ----------------------------\n",
    "#collecting all existing regions into dictionary with count = 0\n",
    "regions_dict = {}\n",
    "for id in insurance_dict:\n",
    "    regions_dict[insurance_dict[id]['region']] = 0\n",
    "#looping through insurance_dict to count how many patients are there in every region   \n",
    "for region in regions_dict:\n",
    "    for id in insurance_dict:\n",
    "        if insurance_dict[id]['region'] == region:\n",
    "            regions_dict[region] += 1\n",
    "#making a list because there may be more than one region with max number of patients\n",
    "most_common_regions = [] \n",
    "for region in regions_dict:\n",
    "    if regions_dict[region] == max(regions_dict.values()):\n",
    "        most_common_regions.append(region)\n",
    "print(\"These are the most common regions with number of patients equal to \" + str(max(regions_dict.values())))\n",
    "print(most_common_regions)       \n",
    "        \n",
    "#looking at the avg costs between smokers vs. non-smokers ---------------------------\n",
    "sm_count = 0\n",
    "sm_charge_sum = 0\n",
    "nsm_count = 0\n",
    "nsm_charge_sum = 0\n",
    "for id in insurance_dict:\n",
    "    if insurance_dict[id]['smoker'] == 'yes':\n",
    "        sm_count += 1\n",
    "        sm_charge_sum += float(insurance_dict[id]['charges'])\n",
    "    elif insurance_dict[id]['smoker'] == 'no':\n",
    "        nsm_count += 1\n",
    "        nsm_charge_sum += float(insurance_dict[id]['charges'])\n",
    "print(\"Avg smoker pays: \" + str(sm_charge_sum/sm_count))\n",
    "print(\"Avg non-smoker pays: \" + str(nsm_charge_sum/nsm_count))\n",
    "\n",
    "#figuring out what the average age is for someone who has at least one child ------------\n",
    "age_sum = 0\n",
    "count = 0\n",
    "for id in insurance_dict:\n",
    "    if int(insurance_dict[id]['children']) > 0:\n",
    "        count += 1\n",
    "        age_sum += int(insurance_dict[id]['age'])\n",
    "print(\"Avg age for someone who has at least one child is: \" + str(round(age_sum/count, 1)))"
   ]
  }
 ],
 "metadata": {
  "kernelspec": {
   "display_name": "Python 3",
   "language": "python",
   "name": "python3"
  },
  "language_info": {
   "codemirror_mode": {
    "name": "ipython",
    "version": 3
   },
   "file_extension": ".py",
   "mimetype": "text/x-python",
   "name": "python",
   "nbconvert_exporter": "python",
   "pygments_lexer": "ipython3",
   "version": "3.8.5"
  }
 },
 "nbformat": 4,
 "nbformat_minor": 4
}
